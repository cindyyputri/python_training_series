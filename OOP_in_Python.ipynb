{
  "nbformat": 4,
  "nbformat_minor": 0,
  "metadata": {
    "colab": {
      "provenance": [],
      "authorship_tag": "ABX9TyPS2oYQaOCrRxkUQtY4lC1F",
      "include_colab_link": true
    },
    "kernelspec": {
      "name": "python3",
      "display_name": "Python 3"
    },
    "language_info": {
      "name": "python"
    }
  },
  "cells": [
    {
      "cell_type": "markdown",
      "metadata": {
        "id": "view-in-github",
        "colab_type": "text"
      },
      "source": [
        "<a href=\"https://colab.research.google.com/github/cindyyputri/python_training_series/blob/main/OOP_in_Python.ipynb\" target=\"_parent\"><img src=\"https://colab.research.google.com/assets/colab-badge.svg\" alt=\"Open In Colab\"/></a>"
      ]
    },
    {
      "cell_type": "markdown",
      "source": [
        "**IFSI46 - Cindy Putri Az Zahra - 09031282126072**\n",
        "\n",
        "**Python Training Series: OOP in Python**\n"
      ],
      "metadata": {
        "id": "trCdYTMFoXGy"
      }
    },
    {
      "cell_type": "markdown",
      "source": [
        "## Exercises\n",
        "\n",
        "Create a class called PersonAccount. It has firstname, lastname, incomes, and expenses properties. It also has total_income(), total_expense(), account_info(), add_income(), add_expense() and account_balance() methods. Incomes is a set of income amount and its description. The same goes for expenses."
      ],
      "metadata": {
        "id": "lLSLKkvWfo6o"
      }
    },
    {
      "cell_type": "code",
      "source": [
        "class PersonAccount:\n",
        "    def __init__(self, firstname, lastname):\n",
        "        self.firstname = firstname\n",
        "        self.lastname = lastname\n",
        "        self.incomes = {}\n",
        "        self.expenses = {}\n",
        "\n",
        "    def total_income(self):\n",
        "        return sum(self.incomes.values())\n",
        "\n",
        "    def total_expense(self):\n",
        "        return sum(self.expenses.values())\n",
        "\n",
        "    def account_info(self):\n",
        "        info = f\"Account holder: {self.firstname} {self.lastname}\\n\"\n",
        "        info += f\"Total Income: ${self.total_income():.2f}\\n\"\n",
        "        info += f\"Total Expenses: ${self.total_expense():.2f}\\n\"\n",
        "        info += f\"Account Balance: ${self.account_balance():.2f}\"\n",
        "        return info\n",
        "\n",
        "    def add_income(self, amount, description):\n",
        "        if amount > 0:\n",
        "            self.incomes[description] = amount\n",
        "        else:\n",
        "            print(\"Income amount must be positive.\")\n",
        "\n",
        "    def add_expense(self, amount, description):\n",
        "        if amount > 0:\n",
        "            self.expenses[description] = amount\n",
        "        else:\n",
        "            print(\"Expense amount must be positive.\")\n",
        "\n",
        "    def account_balance(self):\n",
        "        return self.total_income() - self.total_expense()\n",
        "\n",
        "firstname = input(\"Enter your first name: \")\n",
        "lastname = input(\"Enter your last name: \")\n",
        "\n",
        "account = PersonAccount(firstname, lastname)\n",
        "\n",
        "while True:\n",
        "    print(\"\\nOptions:\")\n",
        "    print(\"1. Add Income\")\n",
        "    print(\"2. Add Expense\")\n",
        "    print(\"3. View Account Info\")\n",
        "    print(\"4. Exit\")\n",
        "\n",
        "    choice = input(\"Choose an option (1-4): \")\n",
        "\n",
        "    if choice == '1':\n",
        "        try:\n",
        "            amount = float(input(\"Enter income amount: \"))\n",
        "            description = input(\"Enter income description: \")\n",
        "            account.add_income(amount, description)\n",
        "        except ValueError:\n",
        "            print(\"Invalid input. Please enter a numeric value for amount.\")\n",
        "    elif choice == '2':\n",
        "        try:\n",
        "            amount = float(input(\"Enter expense amount: \"))\n",
        "            description = input(\"Enter expense description: \")\n",
        "            account.add_expense(amount, description)\n",
        "        except ValueError:\n",
        "            print(\"Invalid input. Please enter a numeric value for amount.\")\n",
        "    elif choice == '3':\n",
        "        print(\"\\n\" + account.account_info())\n",
        "    elif choice == '4':\n",
        "        print(\"Exiting...\")\n",
        "        break\n",
        "    else:\n",
        "        print(\"Invalid option. Please choose a number between 1 and 4.\")"
      ],
      "metadata": {
        "colab": {
          "base_uri": "https://localhost:8080/"
        },
        "id": "Vvr4KraDf9s6",
        "outputId": "8c5b8b95-c8b4-4d6f-b06b-72a726f85875"
      },
      "execution_count": 1,
      "outputs": [
        {
          "output_type": "stream",
          "name": "stdout",
          "text": [
            "Enter your first name: Cindy\n",
            "Enter your last name: Putri\n",
            "\n",
            "Options:\n",
            "1. Add Income\n",
            "2. Add Expense\n",
            "3. View Account Info\n",
            "4. Exit\n",
            "Choose an option (1-4): 1\n",
            "Enter income amount: 100000\n",
            "Enter income description: freelance\n",
            "\n",
            "Options:\n",
            "1. Add Income\n",
            "2. Add Expense\n",
            "3. View Account Info\n",
            "4. Exit\n",
            "Choose an option (1-4): 2\n",
            "Enter expense amount: 50000\n",
            "Enter expense description: groceries\n",
            "\n",
            "Options:\n",
            "1. Add Income\n",
            "2. Add Expense\n",
            "3. View Account Info\n",
            "4. Exit\n",
            "Choose an option (1-4): 3\n",
            "\n",
            "Account holder: Cindy Putri\n",
            "Total Income: $100000.00\n",
            "Total Expenses: $50000.00\n",
            "Account Balance: $50000.00\n",
            "\n",
            "Options:\n",
            "1. Add Income\n",
            "2. Add Expense\n",
            "3. View Account Info\n",
            "4. Exit\n",
            "Choose an option (1-4): 4\n",
            "Exiting...\n"
          ]
        }
      ]
    }
  ]
}