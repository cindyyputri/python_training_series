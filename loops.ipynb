{
  "nbformat": 4,
  "nbformat_minor": 0,
  "metadata": {
    "colab": {
      "provenance": [],
      "authorship_tag": "ABX9TyM5ICdgVlbXddTHtmq3x5Pb",
      "include_colab_link": true
    },
    "kernelspec": {
      "name": "python3",
      "display_name": "Python 3"
    },
    "language_info": {
      "name": "python"
    }
  },
  "cells": [
    {
      "cell_type": "markdown",
      "metadata": {
        "id": "view-in-github",
        "colab_type": "text"
      },
      "source": [
        "<a href=\"https://colab.research.google.com/github/cindyyputri/python_training_series/blob/main/loops.ipynb\" target=\"_parent\"><img src=\"https://colab.research.google.com/assets/colab-badge.svg\" alt=\"Open In Colab\"/></a>"
      ]
    },
    {
      "cell_type": "markdown",
      "source": [
        "**IFSI46 - Cindy Putri Az Zahra - 09031282126072**\n",
        "\n",
        "**Python Training Series: Loops**\n"
      ],
      "metadata": {
        "id": "trCdYTMFoXGy"
      }
    },
    {
      "cell_type": "markdown",
      "metadata": {
        "id": "6eac56f9-f930-4d06-91f4-5b147caa7e0a"
      },
      "source": [
        "## Exercises\n"
      ]
    },
    {
      "cell_type": "markdown",
      "source": [
        "### Exercises: Level 1\n",
        "\n",
        "1. Iterate 0 to 10 using for loop, do the same using while loop."
      ],
      "metadata": {
        "id": "4-vH9rGFyfrG"
      }
    },
    {
      "cell_type": "code",
      "source": [
        "for number in range(11):\n",
        "    print(number)"
      ],
      "metadata": {
        "colab": {
          "base_uri": "https://localhost:8080/"
        },
        "id": "zDe3JoP-0CEL",
        "outputId": "b444c393-32e3-4460-dd20-6bdc7fd6050a"
      },
      "execution_count": 1,
      "outputs": [
        {
          "output_type": "stream",
          "name": "stdout",
          "text": [
            "0\n",
            "1\n",
            "2\n",
            "3\n",
            "4\n",
            "5\n",
            "6\n",
            "7\n",
            "8\n",
            "9\n",
            "10\n"
          ]
        }
      ]
    },
    {
      "cell_type": "code",
      "source": [
        "number = 0\n",
        "while number <= 10:\n",
        "    print(number)\n",
        "    number += 1"
      ],
      "metadata": {
        "colab": {
          "base_uri": "https://localhost:8080/"
        },
        "id": "lCgZVp_c0Wm5",
        "outputId": "2a1a0701-d4b0-4a12-dec6-1514732f527f"
      },
      "execution_count": 3,
      "outputs": [
        {
          "output_type": "stream",
          "name": "stdout",
          "text": [
            "0\n",
            "1\n",
            "2\n",
            "3\n",
            "4\n",
            "5\n",
            "6\n",
            "7\n",
            "8\n",
            "9\n",
            "10\n"
          ]
        }
      ]
    },
    {
      "cell_type": "markdown",
      "source": [
        "### Exercises: Level 1\n",
        "\n",
        "2. Iterate 10 to 0 using for loop, do the same using while loop."
      ],
      "metadata": {
        "id": "FZCuXOgkzS_I"
      }
    },
    {
      "cell_type": "code",
      "source": [
        "for number in range(10, -1, -1):\n",
        "    print(number)"
      ],
      "metadata": {
        "colab": {
          "base_uri": "https://localhost:8080/"
        },
        "id": "1Id4XKtL0Jvj",
        "outputId": "800efdc5-d20a-4ade-bf79-6b803965b486"
      },
      "execution_count": 4,
      "outputs": [
        {
          "output_type": "stream",
          "name": "stdout",
          "text": [
            "10\n",
            "9\n",
            "8\n",
            "7\n",
            "6\n",
            "5\n",
            "4\n",
            "3\n",
            "2\n",
            "1\n",
            "0\n"
          ]
        }
      ]
    },
    {
      "cell_type": "code",
      "source": [
        "number = 10\n",
        "while number >= 0:\n",
        "    print(number)\n",
        "    number -= 1"
      ],
      "metadata": {
        "colab": {
          "base_uri": "https://localhost:8080/"
        },
        "id": "1MICXCwn0eGm",
        "outputId": "dfece1be-4117-48c9-f0b6-787c5b5446ed"
      },
      "execution_count": 5,
      "outputs": [
        {
          "output_type": "stream",
          "name": "stdout",
          "text": [
            "10\n",
            "9\n",
            "8\n",
            "7\n",
            "6\n",
            "5\n",
            "4\n",
            "3\n",
            "2\n",
            "1\n",
            "0\n"
          ]
        }
      ]
    },
    {
      "cell_type": "markdown",
      "source": [
        "### Exercises: Level 1\n",
        "\n",
        "3. Write a loop that makes seven calls to print(), so we get on the output the following triangle:\n",
        "\n",
        "   ```py\n",
        "     #\n",
        "     ##\n",
        "     ###\n",
        "     ####\n",
        "     #####\n",
        "     ######\n",
        "     #######\n",
        "   ```"
      ],
      "metadata": {
        "id": "GkRd6-xCzRaf"
      }
    },
    {
      "cell_type": "code",
      "source": [
        "for i in range(1, 8):\n",
        "    print('#' * i)"
      ],
      "metadata": {
        "colab": {
          "base_uri": "https://localhost:8080/"
        },
        "id": "HXnx7PPk0iI0",
        "outputId": "1af7fb57-8dda-494e-adcf-d5e1fe52a9ee"
      },
      "execution_count": 6,
      "outputs": [
        {
          "output_type": "stream",
          "name": "stdout",
          "text": [
            "#\n",
            "##\n",
            "###\n",
            "####\n",
            "#####\n",
            "######\n",
            "#######\n"
          ]
        }
      ]
    },
    {
      "cell_type": "markdown",
      "source": [
        "### Exercises: Level 1\n",
        "\n",
        "4. Use nested loops to create the following:\n",
        "\n",
        "   ```sh\n",
        "   # # # # # # # #\n",
        "   # # # # # # # #\n",
        "   # # # # # # # #\n",
        "   # # # # # # # #\n",
        "   # # # # # # # #\n",
        "   # # # # # # # #\n",
        "   # # # # # # # #\n",
        "   # # # # # # # #\n",
        "   ```"
      ],
      "metadata": {
        "id": "Pbk2LrdxzQ5q"
      }
    },
    {
      "cell_type": "code",
      "source": [
        "for i in range(8):\n",
        "    for j in range(8):\n",
        "        print('#', end=' ')\n",
        "    print()"
      ],
      "metadata": {
        "colab": {
          "base_uri": "https://localhost:8080/"
        },
        "id": "E1165M1c0kt5",
        "outputId": "7bd46090-76aa-41e8-94fb-00e620732518"
      },
      "execution_count": 7,
      "outputs": [
        {
          "output_type": "stream",
          "name": "stdout",
          "text": [
            "# # # # # # # # \n",
            "# # # # # # # # \n",
            "# # # # # # # # \n",
            "# # # # # # # # \n",
            "# # # # # # # # \n",
            "# # # # # # # # \n",
            "# # # # # # # # \n",
            "# # # # # # # # \n"
          ]
        }
      ]
    },
    {
      "cell_type": "markdown",
      "source": [
        "### Exercises: Level 1\n",
        "\n",
        "5. Print the following pattern:\n",
        "\n",
        "   ```sh\n",
        "   0 x 0 = 0\n",
        "   1 x 1 = 1\n",
        "   2 x 2 = 4\n",
        "   3 x 3 = 9\n",
        "   4 x 4 = 16\n",
        "   5 x 5 = 25\n",
        "   6 x 6 = 36\n",
        "   7 x 7 = 49\n",
        "   8 x 8 = 64\n",
        "   9 x 9 = 81\n",
        "   10 x 10 = 100\n",
        "   ```"
      ],
      "metadata": {
        "id": "AAHNFoOwzOxX"
      }
    },
    {
      "cell_type": "code",
      "source": [
        "for i in range(11):\n",
        "    print(f\"{i} x {i} = {i * i}\")"
      ],
      "metadata": {
        "colab": {
          "base_uri": "https://localhost:8080/"
        },
        "id": "rqhcJCGy0qLI",
        "outputId": "ff4e3234-0434-4373-cec3-82a2bcc704d8"
      },
      "execution_count": 8,
      "outputs": [
        {
          "output_type": "stream",
          "name": "stdout",
          "text": [
            "0 x 0 = 0\n",
            "1 x 1 = 1\n",
            "2 x 2 = 4\n",
            "3 x 3 = 9\n",
            "4 x 4 = 16\n",
            "5 x 5 = 25\n",
            "6 x 6 = 36\n",
            "7 x 7 = 49\n",
            "8 x 8 = 64\n",
            "9 x 9 = 81\n",
            "10 x 10 = 100\n"
          ]
        }
      ]
    },
    {
      "cell_type": "markdown",
      "source": [
        "### Exercises: Level 1\n",
        "\n",
        "6. Iterate through the list, ['Python', 'Numpy','Pandas','Django', 'Flask']"
      ],
      "metadata": {
        "id": "NKIovG2RzNbj"
      }
    },
    {
      "cell_type": "code",
      "source": [
        "skills = ['Python', 'Numpy', 'Pandas', 'Django', 'Flask']\n",
        "\n",
        "for item in skills:\n",
        "    print(item)"
      ],
      "metadata": {
        "colab": {
          "base_uri": "https://localhost:8080/"
        },
        "id": "5RRfo0Q10wkG",
        "outputId": "80e48152-4dad-493b-c0ce-7b8924fa1c0a"
      },
      "execution_count": 9,
      "outputs": [
        {
          "output_type": "stream",
          "name": "stdout",
          "text": [
            "Python\n",
            "Numpy\n",
            "Pandas\n",
            "Django\n",
            "Flask\n"
          ]
        }
      ]
    },
    {
      "cell_type": "markdown",
      "source": [
        "### Exercises: Level 1\n",
        "\n",
        "7. Use for loop to iterate from 0 to 100 and print only even numbers"
      ],
      "metadata": {
        "id": "En44mci5zGCw"
      }
    },
    {
      "cell_type": "code",
      "source": [
        "for number in range(0, 101):\n",
        "    if number % 2 == 0:\n",
        "        print(number)"
      ],
      "metadata": {
        "colab": {
          "base_uri": "https://localhost:8080/"
        },
        "id": "ilP4xK-u025b",
        "outputId": "4f984440-b1cd-4538-e8b5-80187fc81ff4"
      },
      "execution_count": 11,
      "outputs": [
        {
          "output_type": "stream",
          "name": "stdout",
          "text": [
            "0\n",
            "2\n",
            "4\n",
            "6\n",
            "8\n",
            "10\n",
            "12\n",
            "14\n",
            "16\n",
            "18\n",
            "20\n",
            "22\n",
            "24\n",
            "26\n",
            "28\n",
            "30\n",
            "32\n",
            "34\n",
            "36\n",
            "38\n",
            "40\n",
            "42\n",
            "44\n",
            "46\n",
            "48\n",
            "50\n",
            "52\n",
            "54\n",
            "56\n",
            "58\n",
            "60\n",
            "62\n",
            "64\n",
            "66\n",
            "68\n",
            "70\n",
            "72\n",
            "74\n",
            "76\n",
            "78\n",
            "80\n",
            "82\n",
            "84\n",
            "86\n",
            "88\n",
            "90\n",
            "92\n",
            "94\n",
            "96\n",
            "98\n",
            "100\n"
          ]
        }
      ]
    },
    {
      "cell_type": "markdown",
      "source": [
        "### Exercises: Level 1\n",
        "\n",
        "8. Use for loop to iterate from 0 to 100 and print only odd numbers"
      ],
      "metadata": {
        "id": "woaaA7J7y_un"
      }
    },
    {
      "cell_type": "code",
      "source": [
        "for number in range(0, 101):\n",
        "    if number % 2 == 1:\n",
        "        print(number)"
      ],
      "metadata": {
        "colab": {
          "base_uri": "https://localhost:8080/"
        },
        "id": "0MI2noXF09va",
        "outputId": "b097a2b5-aef5-415f-b42a-54ea1ce20fba"
      },
      "execution_count": 12,
      "outputs": [
        {
          "output_type": "stream",
          "name": "stdout",
          "text": [
            "1\n",
            "3\n",
            "5\n",
            "7\n",
            "9\n",
            "11\n",
            "13\n",
            "15\n",
            "17\n",
            "19\n",
            "21\n",
            "23\n",
            "25\n",
            "27\n",
            "29\n",
            "31\n",
            "33\n",
            "35\n",
            "37\n",
            "39\n",
            "41\n",
            "43\n",
            "45\n",
            "47\n",
            "49\n",
            "51\n",
            "53\n",
            "55\n",
            "57\n",
            "59\n",
            "61\n",
            "63\n",
            "65\n",
            "67\n",
            "69\n",
            "71\n",
            "73\n",
            "75\n",
            "77\n",
            "79\n",
            "81\n",
            "83\n",
            "85\n",
            "87\n",
            "89\n",
            "91\n",
            "93\n",
            "95\n",
            "97\n",
            "99\n"
          ]
        }
      ]
    },
    {
      "cell_type": "markdown",
      "source": [
        "### Exercises: Level 2\n",
        "\n",
        "1.  Use for loop to iterate from 0 to 100 and print the sum of all numbers.\n",
        "    ```sh\n",
        "    The sum of all numbers is 5050.\n",
        "    ```"
      ],
      "metadata": {
        "id": "QAo5tq3EzK44"
      }
    },
    {
      "cell_type": "code",
      "source": [
        "total_sum = 0\n",
        "\n",
        "for number in range(101):\n",
        "    total_sum += number\n",
        "\n",
        "print(\"The sum of all numbers is\", total_sum)"
      ],
      "metadata": {
        "colab": {
          "base_uri": "https://localhost:8080/"
        },
        "id": "yLurcGsc1E5b",
        "outputId": "fcf6b659-df52-4516-a341-97088fb2d5a4"
      },
      "execution_count": 14,
      "outputs": [
        {
          "output_type": "stream",
          "name": "stdout",
          "text": [
            "The sum of all numbers is 5050\n"
          ]
        }
      ]
    },
    {
      "cell_type": "markdown",
      "source": [
        "### Exercises: Level 2\n",
        "    \n",
        "2. Use for loop to iterate from 0 to 100 and print the sum of all evens and the sum of all odds.\n",
        "    ```sh\n",
        "    The sum of all evens is 2550. And the sum of all odds is 2500.\n",
        "    ```"
      ],
      "metadata": {
        "id": "PTrSt1G1zwCI"
      }
    },
    {
      "cell_type": "code",
      "source": [
        "sum_evens = 0\n",
        "sum_odds = 0\n",
        "\n",
        "for number in range(101):\n",
        "    if number % 2 == 0:\n",
        "        sum_evens += number\n",
        "    else:\n",
        "        sum_odds += number\n",
        "\n",
        "print(f\"The sum of all evens is {sum_evens}. And the sum of all odds is {sum_odds}.\")"
      ],
      "metadata": {
        "colab": {
          "base_uri": "https://localhost:8080/"
        },
        "id": "97A40gjk1JoM",
        "outputId": "e9a19901-2d6c-4f5a-d601-1a5ef70f7eb9"
      },
      "execution_count": 15,
      "outputs": [
        {
          "output_type": "stream",
          "name": "stdout",
          "text": [
            "The sum of all evens is 2550. And the sum of all odds is 2500.\n"
          ]
        }
      ]
    }
  ]
}