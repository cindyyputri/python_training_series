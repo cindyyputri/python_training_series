{
  "nbformat": 4,
  "nbformat_minor": 0,
  "metadata": {
    "colab": {
      "provenance": [],
      "authorship_tag": "ABX9TyOZ11+sg66ptdlnl3lbUNIX",
      "include_colab_link": true
    },
    "kernelspec": {
      "name": "python3",
      "display_name": "Python 3"
    },
    "language_info": {
      "name": "python"
    }
  },
  "cells": [
    {
      "cell_type": "markdown",
      "metadata": {
        "id": "view-in-github",
        "colab_type": "text"
      },
      "source": [
        "<a href=\"https://colab.research.google.com/github/cindyyputri/python_training_series/blob/main/conditionals.ipynb\" target=\"_parent\"><img src=\"https://colab.research.google.com/assets/colab-badge.svg\" alt=\"Open In Colab\"/></a>"
      ]
    },
    {
      "cell_type": "markdown",
      "source": [
        "**IFSI46 - Cindy Putri Az Zahra - 09031282126072**\n",
        "\n",
        "**Python Training Series: Conditionals**\n"
      ],
      "metadata": {
        "id": "trCdYTMFoXGy"
      }
    },
    {
      "cell_type": "markdown",
      "metadata": {
        "id": "692be7e0-e119-4dc1-be64-8f4ad71d46b7"
      },
      "source": [
        "## Excercises\n"
      ]
    },
    {
      "cell_type": "markdown",
      "source": [
        "### Exercises: Level 1\n",
        "\n",
        "1. Get user input using input(“Enter your age: ”). If user is 18 or older, give feedback: You are old enough to drive. If below 18 give feedback to wait for the missing amount of years. Output:\n",
        "    ```sh\n",
        "    Enter your age: 30\n",
        "    You are old enough to learn to drive.\n",
        "    Output:\n",
        "    Enter your age: 15\n",
        "    You need 3 more years to learn to drive.\n",
        "    ```"
      ],
      "metadata": {
        "id": "cNMztaYHp9ht"
      }
    },
    {
      "cell_type": "code",
      "source": [
        "age = int(input(\"Enter your age: \"))\n",
        "\n",
        "if age >= 18:\n",
        "    print(\"You are old enough to learn to drive.\")\n",
        "else:\n",
        "    years_left = 18 - age\n",
        "    print(f\"You need {years_left} more years to learn to drive.\")"
      ],
      "metadata": {
        "colab": {
          "base_uri": "https://localhost:8080/"
        },
        "id": "FelHy6nFq1Tg",
        "outputId": "c4f48b85-a884-4ac3-a690-d81493e580d7"
      },
      "execution_count": 1,
      "outputs": [
        {
          "output_type": "stream",
          "name": "stdout",
          "text": [
            "Enter your age: 15\n",
            "You need 3 more years to learn to drive.\n"
          ]
        }
      ]
    },
    {
      "cell_type": "markdown",
      "source": [
        "### Exercises: Level 1\n",
        "\n",
        "2. Compare the values of my_age and your_age using if … else. Who is older (me or you)? Use input(“Enter your age: ”) to get the age as input. You can use a nested condition to print 'year' for 1 year difference in age, 'years' for bigger differences, and a custom text if my_age = your_age. Output:\n",
        "    ```sh\n",
        "    Enter your age: 30\n",
        "    You are 5 years older than me.\n",
        "    ```"
      ],
      "metadata": {
        "id": "LjtedpWTpkRm"
      }
    },
    {
      "cell_type": "code",
      "source": [
        "my_age = 25\n",
        "your_age = int(input(\"Enter your age: \"))\n",
        "\n",
        "if your_age > my_age:\n",
        "    age_difference = your_age - my_age\n",
        "    if age_difference == 1:\n",
        "        print(\"You are 1 year older than me.\")\n",
        "    else:\n",
        "        print(f\"You are {age_difference} years older than me.\")\n",
        "elif your_age < my_age:\n",
        "    age_difference = my_age - your_age\n",
        "    if age_difference == 1:\n",
        "        print(\"I am 1 year older than you.\")\n",
        "    else:\n",
        "        print(f\"I am {age_difference} years older than you.\")\n",
        "else:\n",
        "    print(\"We are the same age!\")"
      ],
      "metadata": {
        "colab": {
          "base_uri": "https://localhost:8080/"
        },
        "id": "YAkRejlyrDMe",
        "outputId": "25799b28-fc72-4034-aa6b-353aa7289265"
      },
      "execution_count": 2,
      "outputs": [
        {
          "output_type": "stream",
          "name": "stdout",
          "text": [
            "Enter your age: 30\n",
            "You are 5 years older than me.\n"
          ]
        }
      ]
    },
    {
      "cell_type": "markdown",
      "source": [
        "### Exercises: Level 1\n",
        "\n",
        "3. Get two numbers from the user using input prompt. If a is greater than b return a is greater than b, if a is less b return a is smaller than b, else a is equal to b. Output:\n",
        "    ```sh\n",
        "    Enter number one: 4\n",
        "    Enter number two: 3\n",
        "    4 is greater than 3\n",
        "    ```"
      ],
      "metadata": {
        "id": "0KO8DAu1qLrU"
      }
    },
    {
      "cell_type": "code",
      "source": [
        "number_one = int(input(\"Enter number one: \"))\n",
        "number_two = int(input(\"Enter number two: \"))\n",
        "\n",
        "if number_one > number_two:\n",
        "    print(f\"{number_one} is greater than {number_two}\")\n",
        "elif number_one < number_two:\n",
        "    print(f\"{number_one} is smaller than {number_two}\")\n",
        "else:\n",
        "    print(f\"{number_one} is equal to {number_two}\")"
      ],
      "metadata": {
        "colab": {
          "base_uri": "https://localhost:8080/"
        },
        "id": "4H6m1lFurIKn",
        "outputId": "4999c102-2bc3-4c59-87e9-d4560a529ab2"
      },
      "execution_count": 3,
      "outputs": [
        {
          "output_type": "stream",
          "name": "stdout",
          "text": [
            "Enter number one: 4\n",
            "Enter number two: 3\n",
            "4 is greater than 3\n"
          ]
        }
      ]
    },
    {
      "cell_type": "markdown",
      "source": [
        "### Exercises: Level 2\n",
        "\n",
        "1. Write a code which gives grade to students according to theirs scores:\n",
        "    ```sh\n",
        "    80-100, A\n",
        "    70-89, B\n",
        "    60-69, C\n",
        "    50-59, D\n",
        "    0-49, F\n",
        "    ```"
      ],
      "metadata": {
        "id": "DSAgVGp-qXdc"
      }
    },
    {
      "cell_type": "code",
      "source": [
        "score =  int(input(\"Enter score: \"))\n",
        "\n",
        "if 80 <= score <= 100:\n",
        "    print(f\"The student's grade is: A\")\n",
        "elif 70 <= score <= 79:\n",
        "    print(f\"The student's grade is: B\")\n",
        "elif 60 <= score <= 69:\n",
        "    print(f\"The student's grade is: C\")\n",
        "elif 50 <= score <= 59:\n",
        "    print(f\"The student's grade is: D\")\n",
        "elif 0 <= score <= 49:\n",
        "    print(f\"The student's grade is: E\")\n",
        "else:\n",
        "    print(f\"Invalid Score\")"
      ],
      "metadata": {
        "colab": {
          "base_uri": "https://localhost:8080/"
        },
        "id": "kqkjjbwmrNtj",
        "outputId": "22ba283a-e4d3-4932-dd09-f8d9670c07ee"
      },
      "execution_count": 4,
      "outputs": [
        {
          "output_type": "stream",
          "name": "stdout",
          "text": [
            "Enter score: 77\n",
            "The student's grade is: B\n"
          ]
        }
      ]
    },
    {
      "cell_type": "markdown",
      "source": [
        "### Exercises: Level 2\n",
        "\n",
        "2. Check if the season is Autumn, Winter, Spring or Summer. If the user input is:\n",
        "    September, October or November, the season is Autumn.\n",
        "    December, January or February, the season is Winter.\n",
        "    March, April or May, the season is Spring\n",
        "    June, July or August, the season is Summer\n"
      ],
      "metadata": {
        "id": "YgPinVM8qcf0"
      }
    },
    {
      "cell_type": "code",
      "source": [
        "month = input(\"Enter the month: \").strip().capitalize()\n",
        "\n",
        "if month in [\"September\", \"October\", \"November\"]:\n",
        "    print(f\"The season is: Autumn\")\n",
        "elif month in [\"December\", \"January\", \"February\"]:\n",
        "    print(f\"The season is: Winter\")\n",
        "elif month in [\"March\", \"April\", \"May\"]:\n",
        "    print(f\"The season is: Spring\")\n",
        "elif month in [\"June\", \"July\", \"August\"]:\n",
        "    print(f\"The season is: Summer\")\n",
        "else:\n",
        "    print(f\"Invalid month\")"
      ],
      "metadata": {
        "colab": {
          "base_uri": "https://localhost:8080/"
        },
        "id": "4zZq0oyirRrB",
        "outputId": "d13decca-d418-4bde-be1d-92566b708686"
      },
      "execution_count": 6,
      "outputs": [
        {
          "output_type": "stream",
          "name": "stdout",
          "text": [
            "Enter the month: august\n",
            "The season is: Summer\n"
          ]
        }
      ]
    },
    {
      "cell_type": "markdown",
      "source": [
        "### Exercises: Level 2\n",
        "\n",
        "3. The following list contains some fruits:\n",
        "    ```sh\n",
        "    fruits = ['banana', 'orange', 'mango', 'lemon']\n",
        "    ```\n",
        "   If a fruit doesn't exist in the list add the fruit to the list and print the modified list. If the fruit exists print('That fruit already exist in the list')"
      ],
      "metadata": {
        "id": "3U0mznW6qmYK"
      }
    },
    {
      "cell_type": "code",
      "source": [
        "fruits = ['banana', 'orange', 'mango', 'lemon']\n",
        "\n",
        "new_fruit = input(\"Enter a fruit: \").strip().lower()\n",
        "\n",
        "if new_fruit in fruits:\n",
        "    print(\"That fruit already exists in the list.\")\n",
        "else:\n",
        "    fruits.append(new_fruit)\n",
        "    print(f\"Added {new_fruit} to the list.\")\n",
        "    print(\"The modified list of fruits is:\", fruits)"
      ],
      "metadata": {
        "colab": {
          "base_uri": "https://localhost:8080/"
        },
        "id": "Ql_gXZLxracs",
        "outputId": "e5add4f1-1907-4fc7-ad2f-612767a0d737"
      },
      "execution_count": 7,
      "outputs": [
        {
          "output_type": "stream",
          "name": "stdout",
          "text": [
            "Enter a fruit: watermelon\n",
            "Added watermelon to the list.\n",
            "The modified list of fruits is: ['banana', 'orange', 'mango', 'lemon', 'watermelon']\n"
          ]
        }
      ]
    },
    {
      "cell_type": "markdown",
      "source": [
        "### Exercises: Level 3\n",
        "\n",
        "1. Here we have a person dictionary. Feel free to modify it!\n",
        "   \n",
        "    ```py\n",
        "    person={\n",
        "        'first_name': 'Aurora',\n",
        "        'last_name': 'Luna',\n",
        "        'age': 6,\n",
        "        'country': 'Indonesia',\n",
        "        'skills': ['JavaScript', 'React', 'Node', 'MongoDB', 'Python'],\n",
        "        'address': {\n",
        "            'street': 'Jl. Jalan',\n",
        "            'zipcode': '123456'\n",
        "        }\n",
        "    }\n",
        "    ```\n",
        "\n",
        "    * Check if the person dictionary has skills key, if so print out the middle skill in the skills list.\n",
        "    * Check if the person dictionary has skills key, if so check if the person has 'Python' skill and print out the result.\n",
        "    * If a person skills has only JavaScript and React, print('He is a front end developer'), if the person skills has Node, Python, MongoDB, print('He is a backend developer'), if the person skills has React, Node and MongoDB, Print('He is a fullstack developer'), else print('unknown title') - for more accurate results more conditions can be nested!\n",
        "    * If the person lives in Indonesia, print the information in the following format:\n",
        "\n",
        "        ```py\n",
        "        Aurora Luna lives in Indonesia.\n",
        "        ```"
      ],
      "metadata": {
        "id": "9AIvnaVYqyKH"
      }
    },
    {
      "cell_type": "code",
      "source": [
        "person = {\n",
        "    'first_name': 'Aurora',\n",
        "    'last_name': 'Luna',\n",
        "    'age': 6,\n",
        "    'country': 'Indonesia',\n",
        "    'skills': ['JavaScript', 'React', 'Node', 'MongoDB', 'Python'],\n",
        "    'address': {\n",
        "        'street': 'Jl. Jalan',\n",
        "        'zipcode': '123456'\n",
        "    }\n",
        "}\n",
        "\n",
        "if 'skills' in person:\n",
        "    skills = person['skills']\n",
        "\n",
        "    middle_index = len(skills) // 2\n",
        "    print(f\"Middle skill: {skills[middle_index]}\")\n",
        "\n",
        "    if 'Python' in skills:\n",
        "        print(\"Person has Python skill.\")\n",
        "\n",
        "    if set(skills) == {'JavaScript', 'React'}:\n",
        "        print('He is a front end developer')\n",
        "    elif set(skills).issuperset({'Node', 'Python', 'MongoDB'}):\n",
        "        print('He is a backend developer')\n",
        "    elif set(skills).issuperset({'React', 'Node', 'MongoDB'}):\n",
        "        print('He is a fullstack developer')\n",
        "    else:\n",
        "        print('Unknown title')\n",
        "\n",
        "if person.get('country') == 'Indonesia':\n",
        "    print(f\"{person['first_name']} {person['last_name']} lives in Indonesia.\")"
      ],
      "metadata": {
        "colab": {
          "base_uri": "https://localhost:8080/"
        },
        "id": "aAYSikwSrhtU",
        "outputId": "dba3472f-f571-4634-e7c1-5eadb5452b65"
      },
      "execution_count": 8,
      "outputs": [
        {
          "output_type": "stream",
          "name": "stdout",
          "text": [
            "Middle skill: Node\n",
            "Person has Python skill.\n",
            "He is a backend developer\n",
            "Aurora Luna lives in Indonesia.\n"
          ]
        }
      ]
    }
  ]
}