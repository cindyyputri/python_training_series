{
  "nbformat": 4,
  "nbformat_minor": 0,
  "metadata": {
    "colab": {
      "provenance": [],
      "authorship_tag": "ABX9TyOhmsCugqgfRl9tZbSSNT5V",
      "include_colab_link": true
    },
    "kernelspec": {
      "name": "python3",
      "display_name": "Python 3"
    },
    "language_info": {
      "name": "python"
    }
  },
  "cells": [
    {
      "cell_type": "markdown",
      "metadata": {
        "id": "view-in-github",
        "colab_type": "text"
      },
      "source": [
        "<a href=\"https://colab.research.google.com/github/cindyyputri/python_training_series/blob/main/Tensors.ipynb\" target=\"_parent\"><img src=\"https://colab.research.google.com/assets/colab-badge.svg\" alt=\"Open In Colab\"/></a>"
      ]
    },
    {
      "cell_type": "markdown",
      "source": [
        "**IFSI46 - Cindy Putri Az Zahra - 09031282126072**\n",
        "\n",
        "**Python Training Series: Tensors**\n"
      ],
      "metadata": {
        "id": "trCdYTMFoXGy"
      }
    },
    {
      "cell_type": "markdown",
      "metadata": {
        "id": "HcCZxK61VIv0"
      },
      "source": [
        "## Exercises\n"
      ]
    },
    {
      "cell_type": "markdown",
      "source": [
        "1. Create a vector, scalar, matrix and tensor with values of your choosing using `tf.constant()`."
      ],
      "metadata": {
        "id": "hTmwjvzZa9AD"
      }
    },
    {
      "cell_type": "code",
      "source": [
        "import tensorflow as tf\n",
        "\n",
        "scalar = tf.constant(42)\n",
        "vector = tf.constant([1, 2, 3, 4, 5])\n",
        "matrix = tf.constant([[1, 2, 3], [4, 5, 6], [7, 8, 9]])\n",
        "tensor = tf.constant([[[1, 2, 3], [4, 5, 6]], [[7, 8, 9], [10, 11, 12]]])"
      ],
      "metadata": {
        "id": "WzgKznMucHo_"
      },
      "execution_count": null,
      "outputs": []
    },
    {
      "cell_type": "markdown",
      "source": [
        "2. Find the shape, rank and size of the tensors you created in 1."
      ],
      "metadata": {
        "id": "04uxJSf1bAJC"
      }
    },
    {
      "cell_type": "code",
      "source": [
        "print(\"Scalar Shape:\", scalar.shape)\n",
        "print(\"Scalar Rank:\", tf.rank(scalar))\n",
        "print(\"Scalar Size:\", tf.size(scalar))\n",
        "\n",
        "print(\"\\nVector Shape:\", vector.shape)\n",
        "print(\"Vector Rank:\", tf.rank(vector))\n",
        "print(\"Vector Size:\", tf.size(vector))\n",
        "\n",
        "print(\"\\nMatrix Shape:\", matrix.shape)\n",
        "print(\"Matrix Rank:\", tf.rank(matrix))\n",
        "print(\"Matrix Size:\", tf.size(matrix))\n",
        "\n",
        "print(\"\\nTensor Shape:\", tensor.shape)\n",
        "print(\"Tensor Rank:\", tf.rank(tensor))\n",
        "print(\"Tensor Size:\", tf.size(tensor))"
      ],
      "metadata": {
        "colab": {
          "base_uri": "https://localhost:8080/"
        },
        "id": "8vwab6PCcg_x",
        "outputId": "e6f284da-a6db-4f29-a9ba-f805fcf6472e"
      },
      "execution_count": null,
      "outputs": [
        {
          "output_type": "stream",
          "name": "stdout",
          "text": [
            "Scalar Shape: ()\n",
            "Scalar Rank: tf.Tensor(0, shape=(), dtype=int32)\n",
            "Scalar Size: tf.Tensor(1, shape=(), dtype=int32)\n",
            "\n",
            "Vector Shape: (5,)\n",
            "Vector Rank: tf.Tensor(1, shape=(), dtype=int32)\n",
            "Vector Size: tf.Tensor(5, shape=(), dtype=int32)\n",
            "\n",
            "Matrix Shape: (3, 3)\n",
            "Matrix Rank: tf.Tensor(2, shape=(), dtype=int32)\n",
            "Matrix Size: tf.Tensor(9, shape=(), dtype=int32)\n",
            "\n",
            "Tensor Shape: (2, 2, 3)\n",
            "Tensor Rank: tf.Tensor(3, shape=(), dtype=int32)\n",
            "Tensor Size: tf.Tensor(12, shape=(), dtype=int32)\n"
          ]
        }
      ]
    },
    {
      "cell_type": "markdown",
      "source": [
        "3. Create two tensors containing random values between 0 and 1 with shape `[5, 300]`."
      ],
      "metadata": {
        "id": "wwGMVgdubDjU"
      }
    },
    {
      "cell_type": "code",
      "source": [
        "tensor_a = tf.random.uniform([5, 300], minval=0, maxval=1)\n",
        "tensor_b = tf.random.uniform([5, 300], minval=0, maxval=1)"
      ],
      "metadata": {
        "id": "Wo3dHUiacl0u"
      },
      "execution_count": null,
      "outputs": []
    },
    {
      "cell_type": "markdown",
      "source": [
        "4. Multiply the two tensors you created in 3 using matrix multiplication."
      ],
      "metadata": {
        "id": "BwmyxzNGbU8P"
      }
    },
    {
      "cell_type": "code",
      "source": [
        "tensor_a_transposed = tf.transpose(tensor_a)\n",
        "matrix_multiplication_result = tf.matmul(tensor_a_transposed, tensor_b)\n",
        "print(\"\\nMatrix Multiplication Result Shape:\", matrix_multiplication_result.shape)"
      ],
      "metadata": {
        "colab": {
          "base_uri": "https://localhost:8080/"
        },
        "id": "ZLvISChqco4h",
        "outputId": "49be19a5-671b-4627-9b81-ddf87a5fd7b6"
      },
      "execution_count": null,
      "outputs": [
        {
          "output_type": "stream",
          "name": "stdout",
          "text": [
            "\n",
            "Matrix Multiplication Result Shape: (300, 300)\n"
          ]
        }
      ]
    },
    {
      "cell_type": "markdown",
      "source": [
        "5. Multiply the two tensors you created in 3 using dot product."
      ],
      "metadata": {
        "id": "YoXydO6VbcDo"
      }
    },
    {
      "cell_type": "code",
      "source": [
        "dot_product_result = tf.reduce_sum(tf.multiply(tensor_a, tensor_b), axis=1)\n",
        "print(\"\\nDot Product Result Shape:\", dot_product_result.shape)\n",
        "print(\"Dot Product Result:\", dot_product_result)"
      ],
      "metadata": {
        "colab": {
          "base_uri": "https://localhost:8080/"
        },
        "id": "P0xsUpRgcvMy",
        "outputId": "11b93b66-3d5f-47e1-e0d5-c82f9261412a"
      },
      "execution_count": null,
      "outputs": [
        {
          "output_type": "stream",
          "name": "stdout",
          "text": [
            "\n",
            "Dot Product Result Shape: (5,)\n",
            "Dot Product Result: tf.Tensor([76.02815  76.800674 76.688156 74.01249  72.25003 ], shape=(5,), dtype=float32)\n"
          ]
        }
      ]
    },
    {
      "cell_type": "markdown",
      "source": [
        "6. Create a tensor with random values between 0 and 1 with shape `[224, 224, 3]`."
      ],
      "metadata": {
        "id": "9nGdvXgybg1t"
      }
    },
    {
      "cell_type": "code",
      "source": [
        "random_tensor = tf.random.uniform([224, 224, 3], minval=0, maxval=1)\n",
        "print(\"\\nRandom Tensor Shape:\", random_tensor.shape)"
      ],
      "metadata": {
        "colab": {
          "base_uri": "https://localhost:8080/"
        },
        "id": "fOroB_c_dLJ7",
        "outputId": "30445e25-2875-455b-b58b-3710de990677"
      },
      "execution_count": null,
      "outputs": [
        {
          "output_type": "stream",
          "name": "stdout",
          "text": [
            "\n",
            "Random Tensor Shape: (224, 224, 3)\n"
          ]
        }
      ]
    },
    {
      "cell_type": "markdown",
      "source": [
        "7. Find the min and max values of the tensor you created in 6."
      ],
      "metadata": {
        "id": "4WBrbjbYbmHu"
      }
    },
    {
      "cell_type": "code",
      "source": [
        "min_val = tf.reduce_min(random_tensor)\n",
        "max_val = tf.reduce_max(random_tensor)\n",
        "print(\"\\nMin Value in Random Tensor:\", min_val.numpy())\n",
        "print(\"Max Value in Random Tensor:\", max_val.numpy())"
      ],
      "metadata": {
        "colab": {
          "base_uri": "https://localhost:8080/"
        },
        "id": "_Gn62pC9dPeR",
        "outputId": "ec2aba40-5253-46d1-b250-97db27edb62a"
      },
      "execution_count": null,
      "outputs": [
        {
          "output_type": "stream",
          "name": "stdout",
          "text": [
            "\n",
            "Min Value in Random Tensor: 6.198883e-06\n",
            "Max Value in Random Tensor: 0.99999785\n"
          ]
        }
      ]
    },
    {
      "cell_type": "markdown",
      "source": [
        "8. Created a tensor with random values of shape `[1, 224, 224, 3]` then squeeze it to change the shape to `[224, 224, 3]`."
      ],
      "metadata": {
        "id": "x9ECAQBTbp8u"
      }
    },
    {
      "cell_type": "code",
      "source": [
        "random_tensor_squeezed = tf.random.uniform([1, 224, 224, 3], minval=0, maxval=1)\n",
        "squeezed_tensor = tf.squeeze(random_tensor_squeezed)\n",
        "print(\"\\nSqueezed Tensor Shape:\", squeezed_tensor.shape)"
      ],
      "metadata": {
        "colab": {
          "base_uri": "https://localhost:8080/"
        },
        "id": "_LYkmP0ydS1p",
        "outputId": "7b5d756d-d6fe-4d67-b301-d285a8fe43d4"
      },
      "execution_count": null,
      "outputs": [
        {
          "output_type": "stream",
          "name": "stdout",
          "text": [
            "\n",
            "Squeezed Tensor Shape: (224, 224, 3)\n"
          ]
        }
      ]
    },
    {
      "cell_type": "markdown",
      "source": [
        "9. Create a tensor with shape `[10]` using your own choice of values, then find the index which has the maximum value."
      ],
      "metadata": {
        "id": "xbsA96_HbvoG"
      }
    },
    {
      "cell_type": "code",
      "source": [
        "values_tensor = tf.constant([3, 5, 7, 2, 8, 10, 1, 6, 9, 4])\n",
        "max_index = tf.argmax(values_tensor)\n",
        "print(\"\\nIndex with Maximum Value in Tensor:\", max_index.numpy())"
      ],
      "metadata": {
        "colab": {
          "base_uri": "https://localhost:8080/"
        },
        "id": "QT7ARGKKdVBM",
        "outputId": "02c5b828-02e9-4560-fea2-9c0c4c174878"
      },
      "execution_count": null,
      "outputs": [
        {
          "output_type": "stream",
          "name": "stdout",
          "text": [
            "\n",
            "Index with Maximum Value in Tensor: 5\n"
          ]
        }
      ]
    },
    {
      "cell_type": "markdown",
      "source": [
        "10. One-hot encode the tensor you created in 9."
      ],
      "metadata": {
        "id": "VbGQFn2zbzZD"
      }
    },
    {
      "cell_type": "code",
      "source": [
        "one_hot_encoded_tensor = tf.one_hot(values_tensor, depth=10)\n",
        "print(\"\\nOne-Hot Encoded Tensor:\\n\", one_hot_encoded_tensor)"
      ],
      "metadata": {
        "colab": {
          "base_uri": "https://localhost:8080/"
        },
        "id": "hBmSHPNAdXCj",
        "outputId": "36ae84d4-c73f-4bc8-c2ca-2ef03d10b0a5"
      },
      "execution_count": null,
      "outputs": [
        {
          "output_type": "stream",
          "name": "stdout",
          "text": [
            "\n",
            "One-Hot Encoded Tensor:\n",
            " tf.Tensor(\n",
            "[[0. 0. 0. 1. 0. 0. 0. 0. 0. 0.]\n",
            " [0. 0. 0. 0. 0. 1. 0. 0. 0. 0.]\n",
            " [0. 0. 0. 0. 0. 0. 0. 1. 0. 0.]\n",
            " [0. 0. 1. 0. 0. 0. 0. 0. 0. 0.]\n",
            " [0. 0. 0. 0. 0. 0. 0. 0. 1. 0.]\n",
            " [0. 0. 0. 0. 0. 0. 0. 0. 0. 0.]\n",
            " [0. 1. 0. 0. 0. 0. 0. 0. 0. 0.]\n",
            " [0. 0. 0. 0. 0. 0. 1. 0. 0. 0.]\n",
            " [0. 0. 0. 0. 0. 0. 0. 0. 0. 1.]\n",
            " [0. 0. 0. 0. 1. 0. 0. 0. 0. 0.]], shape=(10, 10), dtype=float32)\n"
          ]
        }
      ]
    }
  ]
}